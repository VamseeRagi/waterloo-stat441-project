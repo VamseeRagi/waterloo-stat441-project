{
 "cells": [
  {
   "cell_type": "code",
   "execution_count": 88,
   "metadata": {
    "collapsed": false
   },
   "outputs": [],
   "source": [
    "import re\n",
    "import numpy as np\n",
    "import matplotlib.pyplot as plt\n",
    "%matplotlib inline"
   ]
  },
  {
   "cell_type": "code",
   "execution_count": 12,
   "metadata": {
    "collapsed": false
   },
   "outputs": [],
   "source": [
    "# data\n",
    "data = open(\"kaggle.txt\",\"r\")"
   ]
  },
  {
   "cell_type": "code",
   "execution_count": 13,
   "metadata": {
    "collapsed": true
   },
   "outputs": [],
   "source": [
    "lines = data.readlines()"
   ]
  },
  {
   "cell_type": "code",
   "execution_count": 14,
   "metadata": {
    "collapsed": false
   },
   "outputs": [
    {
     "data": {
      "text/plain": [
       "6779"
      ]
     },
     "execution_count": 14,
     "metadata": {},
     "output_type": "execute_result"
    }
   ],
   "source": [
    "len(lines)"
   ]
  },
  {
   "cell_type": "code",
   "execution_count": 26,
   "metadata": {
    "collapsed": false
   },
   "outputs": [
    {
     "data": {
      "text/plain": [
       "['1\\t\\xe2\\x80\\x94\\t\\n',\n",
       " 'antgleb *\\n',\n",
       " '1.00000\\n',\n",
       " '7\\tMon, 16 Feb 2015 21:46:33\\n',\n",
       " '2\\t\\xe2\\x80\\x94\\t\\n',\n",
       " 'Ashish Singh\\n',\n",
       " '0.99999\\n',\n",
       " '7\\tSat, 17 Jan 2015 04:21:59\\n',\n",
       " '3\\t\\xe2\\x80\\x94\\t\\n',\n",
       " 'ucbw207_2_forest  Team\\n']"
      ]
     },
     "execution_count": 26,
     "metadata": {},
     "output_type": "execute_result"
    }
   ],
   "source": [
    "lines[:10]"
   ]
  },
  {
   "cell_type": "code",
   "execution_count": 103,
   "metadata": {
    "collapsed": false
   },
   "outputs": [],
   "source": [
    "ranking = []\n",
    "score = []"
   ]
  },
  {
   "cell_type": "code",
   "execution_count": 104,
   "metadata": {
    "collapsed": false
   },
   "outputs": [],
   "source": [
    "for i in range(len(lines)):\n",
    "    this = lines[i]\n",
    "    if this.endswith('\\t\\n'):\n",
    "        ranking.append(this)\n",
    "    elif re.search('[a-zA-ZОльгаСигалова윤일근]', this) == None:\n",
    "        score.append(this)"
   ]
  },
  {
   "cell_type": "code",
   "execution_count": 105,
   "metadata": {
    "collapsed": false
   },
   "outputs": [
    {
     "data": {
      "text/plain": [
       "['1\\t\\xe2\\x80\\x94\\t\\n',\n",
       " '2\\t\\xe2\\x80\\x94\\t\\n',\n",
       " '3\\t\\xe2\\x80\\x94\\t\\n',\n",
       " '4\\t\\xe2\\x80\\x94\\t\\n',\n",
       " '5\\t\\xe2\\x80\\x94\\t\\n',\n",
       " '6\\t\\xe2\\x80\\x94\\t\\n',\n",
       " '7\\t\\xe2\\x80\\x94\\t\\n',\n",
       " '8\\t\\xe2\\x86\\x91459\\t\\n',\n",
       " '9\\t\\xe2\\x86\\x931\\t\\n',\n",
       " '10\\t\\xe2\\x86\\x931\\t\\n']"
      ]
     },
     "execution_count": 105,
     "metadata": {},
     "output_type": "execute_result"
    }
   ],
   "source": [
    "ranking[:10]"
   ]
  },
  {
   "cell_type": "code",
   "execution_count": 106,
   "metadata": {
    "collapsed": false
   },
   "outputs": [
    {
     "data": {
      "text/plain": [
       "['1.00000\\n',\n",
       " '0.99999\\n',\n",
       " '0.99751\\n',\n",
       " '0.99538\\n',\n",
       " '0.98919\\n',\n",
       " '0.98524\\n',\n",
       " '0.94594\\n',\n",
       " '0.94276\\n',\n",
       " '0.91214\\n',\n",
       " '0.90926\\n']"
      ]
     },
     "execution_count": 106,
     "metadata": {},
     "output_type": "execute_result"
    }
   ],
   "source": [
    "score[:10]"
   ]
  },
  {
   "cell_type": "code",
   "execution_count": 107,
   "metadata": {
    "collapsed": false
   },
   "outputs": [],
   "source": [
    "ranking = map(lambda x: int(x.split(\"\\t\")[0]),ranking)"
   ]
  },
  {
   "cell_type": "code",
   "execution_count": 108,
   "metadata": {
    "collapsed": false
   },
   "outputs": [
    {
     "data": {
      "text/plain": [
       "1694"
      ]
     },
     "execution_count": 108,
     "metadata": {},
     "output_type": "execute_result"
    }
   ],
   "source": [
    "len(ranking)"
   ]
  },
  {
   "cell_type": "code",
   "execution_count": 109,
   "metadata": {
    "collapsed": false
   },
   "outputs": [],
   "source": [
    "score = map(lambda x: float(x.split(\"\\n\")[0]),score)\n",
    "score.remove(2626.0)\n",
    "score.remove(10396101.0)"
   ]
  },
  {
   "cell_type": "code",
   "execution_count": 110,
   "metadata": {
    "collapsed": false
   },
   "outputs": [
    {
     "data": {
      "text/plain": [
       "1694"
      ]
     },
     "execution_count": 110,
     "metadata": {},
     "output_type": "execute_result"
    }
   ],
   "source": [
    "len(score)"
   ]
  },
  {
   "cell_type": "code",
   "execution_count": 111,
   "metadata": {
    "collapsed": false
   },
   "outputs": [
    {
     "data": {
      "text/plain": [
       "[<matplotlib.lines.Line2D at 0x1084ffa90>]"
      ]
     },
     "execution_count": 111,
     "metadata": {},
     "output_type": "execute_result"
    },
    {
     "data": {
      "image/png": "[encoded data removed]",
      "text/plain": [
       "<matplotlib.figure.Figure at 0x10831da10>"
      ]
     },
     "metadata": {},
     "output_type": "display_data"
    }
   ],
   "source": [
    "plt.figure(figsize=(16,10))\n",
    "plt.plot(ranking,score)\n",
    "plt.xlabel(\"Participant\")\n",
    "plt.ylabel(\"\")"
   ]
  },
  {
   "cell_type": "code",
   "execution_count": null,
   "metadata": {
    "collapsed": true
   },
   "outputs": [],
   "source": []
  }
 ],
 "metadata": {
  "kernelspec": {
   "display_name": "Python 2",
   "language": "python",
   "name": "python2"
  },
  "language_info": {
   "codemirror_mode": {
    "name": "ipython",
    "version": 2
   },
   "file_extension": ".py",
   "mimetype": "text/x-python",
   "name": "python",
   "nbconvert_exporter": "python",
   "pygments_lexer": "ipython2",
   "version": "2.7.10"
  }
 },
 "nbformat": 4,
 "nbformat_minor": 0
}
